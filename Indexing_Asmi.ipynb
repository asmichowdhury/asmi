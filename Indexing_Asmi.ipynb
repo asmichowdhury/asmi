{
 "cells": [
  {
   "cell_type": "code",
   "execution_count": 21,
   "metadata": {},
   "outputs": [],
   "source": [
    "import random\n",
    "\n",
    "# Create the variables\n",
    "integer_var = 28\n",
    "list_of_integers_var = [5, 6, 7]\n",
    "string_var = \"Asmi!\"\n",
    "list_of_integers_and_string_var = [42, \"Asmi\"]\n",
    "tuple_of_integers_var = (70, 80, 90)\n",
    "set_of_strings_var = {'car', 'road', 'bike'}\n",
    "list_of_strings_var = ['car', 'road', 'bike']"
   ]
  },
  {
   "cell_type": "code",
   "execution_count": 2,
   "metadata": {},
   "outputs": [],
   "source": [
    "# Create a dictionary with random keys\n",
    "my_random_dict = {}\n",
    "for i in range(7):\n",
    "    random_key = f\"key_{random.randint(1, 100)}\"\n",
    "    my_random_dict[random_key] = None"
   ]
  },
  {
   "cell_type": "code",
   "execution_count": 3,
   "metadata": {},
   "outputs": [],
   "source": [
    "# Assign the variables as values to the dictionary\n",
    "my_random_dict[\"key_1\"] = integer_var\n",
    "my_random_dict[\"key_2\"] = list_of_integers_var\n",
    "my_random_dict[\"key_3\"] = string_var\n",
    "my_random_dict[\"key_4\"] = list_of_integers_and_string_var\n",
    "my_random_dict[\"key_5\"] = tuple_of_integers_var\n",
    "my_random_dict[\"key_6\"] = set_of_strings_var\n",
    "my_random_dict[\"key_7\"] = list_of_strings_var"
   ]
  },
  {
   "cell_type": "code",
   "execution_count": 13,
   "metadata": {},
   "outputs": [
    {
     "data": {
      "text/plain": [
       "[42, 'Asmi']"
      ]
     },
     "execution_count": 13,
     "metadata": {},
     "output_type": "execute_result"
    }
   ],
   "source": [
    "my_random_dict[\"key_4\"]"
   ]
  },
  {
   "cell_type": "code",
   "execution_count": 14,
   "metadata": {},
   "outputs": [
    {
     "data": {
      "text/plain": [
       "'Asmi!'"
      ]
     },
     "execution_count": 14,
     "metadata": {},
     "output_type": "execute_result"
    }
   ],
   "source": [
    "my_random_dict[\"key_3\"]"
   ]
  },
  {
   "cell_type": "code",
   "execution_count": 16,
   "metadata": {},
   "outputs": [
    {
     "data": {
      "text/plain": [
       "70"
      ]
     },
     "execution_count": 16,
     "metadata": {},
     "output_type": "execute_result"
    }
   ],
   "source": [
    "my_random_dict[\"key_5\"][0]"
   ]
  },
  {
   "cell_type": "code",
   "execution_count": 18,
   "metadata": {},
   "outputs": [
    {
     "data": {
      "text/plain": [
       "80"
      ]
     },
     "execution_count": 18,
     "metadata": {},
     "output_type": "execute_result"
    }
   ],
   "source": [
    "my_random_dict[\"key_5\"][1]"
   ]
  },
  {
   "cell_type": "code",
   "execution_count": 19,
   "metadata": {},
   "outputs": [
    {
     "data": {
      "text/plain": [
       "90"
      ]
     },
     "execution_count": 19,
     "metadata": {},
     "output_type": "execute_result"
    }
   ],
   "source": [
    "my_random_dict[\"key_5\"][2]"
   ]
  },
  {
   "cell_type": "code",
   "execution_count": 20,
   "metadata": {},
   "outputs": [
    {
     "data": {
      "text/plain": [
       "'bike'"
      ]
     },
     "execution_count": 20,
     "metadata": {},
     "output_type": "execute_result"
    }
   ],
   "source": [
    "my_random_dict[\"key_7\"][2]"
   ]
  },
  {
   "cell_type": "code",
   "execution_count": null,
   "metadata": {},
   "outputs": [],
   "source": []
  }
 ],
 "metadata": {
  "kernelspec": {
   "display_name": "Python 3",
   "language": "python",
   "name": "python3"
  },
  "language_info": {
   "codemirror_mode": {
    "name": "ipython",
    "version": 3
   },
   "file_extension": ".py",
   "mimetype": "text/x-python",
   "name": "python",
   "nbconvert_exporter": "python",
   "pygments_lexer": "ipython3",
   "version": "3.7.6"
  }
 },
 "nbformat": 4,
 "nbformat_minor": 4
}
